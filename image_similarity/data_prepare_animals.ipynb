{
 "cells": [
  {
   "cell_type": "markdown",
   "id": "f1f888c1-00d9-40df-874e-ce35ad157c28",
   "metadata": {},
   "source": [
    "## Prepare images for encoding\n",
    "\n",
    "Dataset downloaded from here https://www.kaggle.com/alessiocorrado99/animals10"
   ]
  },
  {
   "cell_type": "code",
   "execution_count": 3,
   "id": "4d86aba5-b48f-49d8-abb5-49ae7abc5dcc",
   "metadata": {},
   "outputs": [],
   "source": [
    "import config\n",
    "\n",
    "import os\n",
    "import numpy as np\n",
    "from PIL import Image, ImageDraw, ImageOps\n",
    "import pandas as pd\n",
    "import json\n",
    "import glob"
   ]
  },
  {
   "cell_type": "code",
   "execution_count": 4,
   "id": "14d4843a-a115-4c03-aabd-e9416a2a4c3c",
   "metadata": {},
   "outputs": [],
   "source": [
    "input_folder = \"../data/archive/raw-img\"\n",
    "\n",
    "output_folder = config.DATA_PATH"
   ]
  },
  {
   "cell_type": "code",
   "execution_count": 11,
   "id": "4700232a-583c-4255-8311-6245bdb27353",
   "metadata": {},
   "outputs": [],
   "source": [
    "files_to_convert = [f for f in glob.iglob(input_folder + '**/**/*.j*', recursive=True)]\n",
    "files_to_convert = files_to_convert[::10]"
   ]
  },
  {
   "cell_type": "code",
   "execution_count": null,
   "id": "fcdf020c-b7a3-42fe-9990-96d128c57adb",
   "metadata": {},
   "outputs": [],
   "source": []
  },
  {
   "cell_type": "code",
   "execution_count": 14,
   "id": "5c75ef1c-2c8f-4c5a-b3fe-2ef9a986fa4e",
   "metadata": {},
   "outputs": [],
   "source": [
    "height_size = 512\n",
    "width_size = 512\n",
    "\n",
    "\n",
    "\n",
    "already_converted = set(glob.iglob(output_folder + '**'))\n",
    "\n",
    "# root_dir needs a trailing slash (i.e. /root/dir/)\n",
    "img_num = 0\n",
    "for filename in files_to_convert:\n",
    "    \n",
    "    img_file_name = os.path.basename(filename)\n",
    "    img_file_name_output =  str(img_num) + \".jpg\"\n",
    "    img_num = img_num+1\n",
    "    output_file_name = os.path.join(output_folder, img_file_name_output)\n",
    "    \n",
    "    if output_file_name in already_converted:\n",
    "        continue\n",
    "    \n",
    "    #print(filename, img_file_name)\n",
    "        \n",
    "    try:\n",
    "        image = Image.open(filename)\n",
    "        #image = ImageOps.exif_transpose(image)\n",
    "        #print(image.size)\n",
    "\n",
    "        image = image.resize((width_size, height_size), Image.NEAREST)\n",
    "\n",
    "        image.convert('RGB').save( output_file_name  )\n",
    "    except :\n",
    "        print(f'Failed {filename}')\n",
    "        pass"
   ]
  },
  {
   "cell_type": "code",
   "execution_count": null,
   "id": "e528daf5-0c69-4b3d-aded-5e09f89687f0",
   "metadata": {},
   "outputs": [],
   "source": []
  }
 ],
 "metadata": {
  "kernelspec": {
   "display_name": "Python 3",
   "language": "python",
   "name": "python3"
  },
  "language_info": {
   "codemirror_mode": {
    "name": "ipython",
    "version": 3
   },
   "file_extension": ".py",
   "mimetype": "text/x-python",
   "name": "python",
   "nbconvert_exporter": "python",
   "pygments_lexer": "ipython3",
   "version": "3.8.3"
  }
 },
 "nbformat": 4,
 "nbformat_minor": 5
}
